{
 "cells": [
  {
   "cell_type": "code",
   "execution_count": 9,
   "metadata": {},
   "outputs": [
    {
     "name": "stderr",
     "output_type": "stream",
     "text": [
      "C:\\Users\\Asha\\AppData\\Local\\Packages\\PythonSoftwareFoundation.Python.3.11_qbz5n2kfra8p0\\LocalCache\\local-packages\\Python311\\site-packages\\keras\\src\\layers\\convolutional\\base_conv.py:99: UserWarning: Do not pass an `input_shape`/`input_dim` argument to a layer. When using Sequential models, prefer using an `Input(shape)` object as the first layer in the model instead.\n",
      "  super().__init__(\n"
     ]
    },
    {
     "name": "stdout",
     "output_type": "stream",
     "text": [
      "CNN Model:\n",
      "Test Loss: 1.0586031675338745\n",
      "Test Mean Absolute Error: 0.5758799910545349\n",
      "\n"
     ]
    },
    {
     "name": "stderr",
     "output_type": "stream",
     "text": [
      "C:\\Users\\Asha\\AppData\\Local\\Packages\\PythonSoftwareFoundation.Python.3.11_qbz5n2kfra8p0\\LocalCache\\local-packages\\Python311\\site-packages\\keras\\src\\layers\\core\\dense.py:88: UserWarning: Do not pass an `input_shape`/`input_dim` argument to a layer. When using Sequential models, prefer using an `Input(shape)` object as the first layer in the model instead.\n",
      "  super().__init__(activity_regularizer=activity_regularizer, **kwargs)\n"
     ]
    },
    {
     "name": "stdout",
     "output_type": "stream",
     "text": [
      "MLP Model:\n",
      "Test Loss: 0.9766802191734314\n",
      "Test Mean Absolute Error: 0.548055112361908\n"
     ]
    }
   ],
   "source": [
    "import pandas as pd\n",
    "import numpy as np\n",
    "from sklearn.model_selection import train_test_split\n",
    "from sklearn.preprocessing import StandardScaler\n",
    "from tensorflow.keras.models import Sequential\n",
    "from tensorflow.keras.layers import Conv1D, MaxPooling1D, Flatten, Dense\n",
    "\n",
    "# Load the dataset\n",
    "df = pd.read_csv(r\"C:\\Users\\Asha\\Downloads\\Dataset\\Customer Data.csv\")\n",
    "\n",
    "# Drop unnecessary columns like 'CUST_ID' assuming they are not needed for modeling\n",
    "df = df.drop('CUST_ID', axis=1)\n",
    "\n",
    "# Fill missing values with the mean of each column\n",
    "df.fillna(df.mean(), inplace=True)\n",
    "\n",
    "# Selecting 'TENURE' as the dependent variable (target)\n",
    "y = df['TENURE'].values\n",
    "\n",
    "# Selecting numerical features as independent variables\n",
    "X = df.drop(['TENURE'], axis=1).values\n",
    "\n",
    "# Standardize the features\n",
    "scaler = StandardScaler()\n",
    "X_scaled = scaler.fit_transform(X)\n",
    "\n",
    "# Train-test split for both models\n",
    "X_train_cnn, X_test_cnn, y_train_cnn, y_test_cnn = train_test_split(X_scaled, y, test_size=0.2, random_state=42)\n",
    "X_train_mlp, X_test_mlp, y_train_mlp, y_test_mlp = train_test_split(X_scaled, y, test_size=0.2, random_state=42)\n",
    "\n",
    "### CNN Model ###\n",
    "# Reshape data for CNN (assuming sequential input)\n",
    "X_train_reshaped = X_train_cnn.reshape(X_train_cnn.shape[0], X_train_cnn.shape[1], 1)\n",
    "X_test_reshaped = X_test_cnn.reshape(X_test_cnn.shape[0], X_test_cnn.shape[1], 1)\n",
    "\n",
    "# Build the CNN model\n",
    "cnn_model = Sequential([\n",
    "    Conv1D(64, 3, activation='relu', input_shape=(X_train_cnn.shape[1], 1)),\n",
    "    MaxPooling1D(2),\n",
    "    Conv1D(32, 3, activation='relu'),\n",
    "    MaxPooling1D(2),\n",
    "    Flatten(),\n",
    "    Dense(16, activation='relu'),\n",
    "    Dense(8, activation='relu'),\n",
    "    Dense(1, activation='linear')  # Output layer for regression (predicting TENURE)\n",
    "])\n",
    "\n",
    "# Compile the CNN model\n",
    "cnn_model.compile(optimizer='adam', loss='mean_squared_error', metrics=['mae'])\n",
    "\n",
    "# Train the CNN model\n",
    "cnn_history = cnn_model.fit(X_train_reshaped, y_train_cnn, epochs=50, batch_size=32, validation_data=(X_test_reshaped, y_test_cnn), verbose=0)\n",
    "\n",
    "# Evaluate the CNN model on the test data\n",
    "cnn_loss, cnn_mae = cnn_model.evaluate(X_test_reshaped, y_test_cnn, verbose=0)\n",
    "\n",
    "print(\"CNN Model:\")\n",
    "print(f\"Test Loss: {cnn_loss}\")\n",
    "print(f\"Test Mean Absolute Error: {cnn_mae}\")\n",
    "print()\n",
    "\n",
    "### MLP Model ###\n",
    "# Define the MLP model\n",
    "mlp_model = Sequential([\n",
    "    Dense(64, activation='relu', input_shape=(X_train_mlp.shape[1],)),\n",
    "    Dense(32, activation='relu'),\n",
    "    Dense(16, activation='relu'),\n",
    "    Dense(1, activation='linear')  # Output layer for regression (predicting TENURE)\n",
    "])\n",
    "\n",
    "# Compile the MLP model\n",
    "mlp_model.compile(optimizer='adam', loss='mean_squared_error', metrics=['mae'])\n",
    "\n",
    "# Train the MLP model\n",
    "mlp_history = mlp_model.fit(X_train_mlp, y_train_mlp, epochs=50, batch_size=32, validation_split=0.2, verbose=0)\n",
    "\n",
    "# Evaluate the MLP model on the test data\n",
    "mlp_loss, mlp_mae = mlp_model.evaluate(X_test_mlp, y_test_mlp, verbose=0)\n",
    "\n",
    "print(\"MLP Model:\")\n",
    "print(f\"Test Loss: {mlp_loss}\")\n",
    "print(f\"Test Mean Absolute Error: {mlp_mae}\")\n",
    "\n"
   ]
  }
 ],
 "metadata": {
  "kernelspec": {
   "display_name": "Python 3",
   "language": "python",
   "name": "python3"
  },
  "language_info": {
   "codemirror_mode": {
    "name": "ipython",
    "version": 3
   },
   "file_extension": ".py",
   "mimetype": "text/x-python",
   "name": "python",
   "nbconvert_exporter": "python",
   "pygments_lexer": "ipython3",
   "version": "3.11.9"
  }
 },
 "nbformat": 4,
 "nbformat_minor": 2
}
